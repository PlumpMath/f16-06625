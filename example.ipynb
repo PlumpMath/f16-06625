{
 "cells": [
  {
   "cell_type": "markdown",
   "metadata": {},
   "source": [
    "Jupyter notebooks allow you to run Python inside a \"notebook\" in a browser. You type code into \"cells\" which you can evaluate. The notebook captures your \n",
    "\n",
    "Save your notebooks by typing C-s.\n",
    "\n",
    "The things defined in one cell are available in later cells. Be careful though, it is possible to run cells out of order, which can lead to confusing results. When you first open a file, you have to evaluate each cell in order.\n",
    "\n"
   ]
  },
  {
   "cell_type": "code",
   "execution_count": 9,
   "metadata": {
    "collapsed": false
   },
   "outputs": [
    {
     "data": {
      "text/plain": [
       "11"
      ]
     },
     "execution_count": 9,
     "metadata": {},
     "output_type": "execute_result"
    }
   ],
   "source": [
    "# Type regular python code in a cell. Press Ctrl-Enter to evaluate it. \n",
    "# Alt-Enter will evaluate it and insert a new cell after it.\n",
    "# Shift-Enter will evaluate it and move to the next cell.\n",
    "\n",
    "# Some simple example code\n",
    "a = 5\n",
    "b = 6\n",
    "a + b"
   ]
  },
  {
   "cell_type": "code",
   "execution_count": 10,
   "metadata": {
    "collapsed": false
   },
   "outputs": [
    {
     "data": {
      "text/plain": [
       "array([10, 15, 20])"
      ]
     },
     "execution_count": 10,
     "metadata": {},
     "output_type": "execute_result"
    }
   ],
   "source": [
    "# Imports work the same as before.\n",
    "import numpy as np\n",
    "a * np.array([2, 3, 4])\n",
    "# Note there is no print function here; you just see the output.\n",
    "# Also note we use the a variable we defined above."
   ]
  },
  {
   "cell_type": "code",
   "execution_count": 13,
   "metadata": {
    "collapsed": false
   },
   "outputs": [
    {
     "data": {
      "text/plain": [
       "[<matplotlib.lines.Line2D at 0x10efa5c50>]"
      ]
     },
     "execution_count": 13,
     "metadata": {},
     "output_type": "execute_result"
    },
    {
     "data": {
      "image/png": "[encoded data removed]",
      "text/plain": [
       "<matplotlib.figure.Figure at 0x10b94dfd0>"
      ]
     },
     "metadata": {},
     "output_type": "display_data"
    }
   ],
   "source": [
    "# You have to use this %matplotlib inline to get figures to show here.\n",
    "%matplotlib inline\n",
    "import matplotlib.pyplot as plt\n",
    "\n",
    "x = np.array([0, 1, 2, 3])\n",
    "y = 2 ** x\n",
    "plt.plot(x, y)  \n",
    "\n",
    "# It is not necessary to show or save these figures.\n",
    "# They are saved in the notebook"
   ]
  },
  {
   "cell_type": "code",
   "execution_count": 14,
   "metadata": {
    "collapsed": false
   },
   "outputs": [
    {
     "data": {
      "text/plain": [
       "array([ 6.])"
      ]
     },
     "execution_count": 14,
     "metadata": {},
     "output_type": "execute_result"
    }
   ],
   "source": [
    "# You can define functions. Note we use the variable b from above.\n",
    "def objective(x):\n",
    "    return x - b\n",
    "\n",
    "from scipy.optimize import fsolve\n",
    "fsolve(objective, 5)"
   ]
  },
  {
   "cell_type": "markdown",
   "metadata": {},
   "source": [
    "You can change a cell to be Markdown (a kind of markup) to write prose and narrative text. You can embed LaTeX equations in the cell, e.g. above we plotted $y = 2^x$. Make sure to type Ctrl-Enter to render the cell. Double click in the cell to edit it."
   ]
  },
  {
   "cell_type": "markdown",
   "metadata": {},
   "source": [
    "# You can make some outline like features.\n",
    "\n",
    "Starting a line with one or more # in a Markdown cell indicates it is a heading.\n",
    "\n",
    "## A subheading\n",
    "You can use these to add structure to your notebooks."
   ]
  },
  {
   "cell_type": "markdown",
   "metadata": {},
   "source": [
    "*It is not enough to just save your notebook!*\n",
    "\n",
    "# You still have to turn in the assignment from Emacs"
   ]
  }
 ],
 "metadata": {
  "kernelspec": {
   "display_name": "Python 3",
   "language": "python",
   "name": "python3"
  },
  "language_info": {
   "codemirror_mode": {
    "name": "ipython",
    "version": 3
   },
   "file_extension": ".py",
   "mimetype": "text/x-python",
   "name": "python",
   "nbconvert_exporter": "python",
   "pygments_lexer": "ipython3",
   "version": "3.5.1"
  }
 },
 "nbformat": 4,
 "nbformat_minor": 0
}
